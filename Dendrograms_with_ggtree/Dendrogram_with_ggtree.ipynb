{
 "cells": [
  {
   "cell_type": "code",
   "execution_count": null,
   "metadata": {
    "vscode": {
     "languageId": "rmd"
    }
   },
   "outputs": [],
   "source": [
    "# Load data \n",
    "\n",
    "```{r}\n",
    "####Load library####\n",
    "\n",
    "library(dartR)\n",
    "\n",
    "```\n",
    "\n",
    "# Load dataset ----------------------------------------\n",
    "\n",
    "```{r}\n",
    "\n",
    "gl_silico_Oca_50_ind <-  gl.read.silicodart(filename=\"data/Silico32755m_50ind_Oxalis.csv\",\n",
    "                     nas = \"-\",\n",
    "                     topskip = \"6\",\n",
    "                     ind.metafile = \"data/ind.metafile_Silico32755m_50ind_Oxalis.csv\")\n",
    "\n",
    "gl_silico_Oca_50_ind\n",
    "```\n"
   ]
  },
  {
   "cell_type": "code",
   "execution_count": null,
   "metadata": {
    "vscode": {
     "languageId": "rmd"
    }
   },
   "outputs": [],
   "source": [
    "# Save and load genlight object\n",
    "```{r}\n",
    "save(gl_silico_Oca_50_ind, file=\"data/Silico_Oca_subset_50ind.Rdata\")\n",
    "\n",
    "load(\"data/Silico_Oca_subset_50ind.Rdata\")\n",
    "\n",
    "```\n"
   ]
  },
  {
   "cell_type": "code",
   "execution_count": null,
   "metadata": {
    "vscode": {
     "languageId": "rmd"
    }
   },
   "outputs": [],
   "source": [
    "# Jaccard distance\n",
    "\n",
    "```{r}\n",
    "\n",
    "dist_Ox_50<- gl.dist.ind(gl_silico_Oca_50_ind, method = \"Jaccard\", plot.out = F)\n",
    "\n",
    "```"
   ]
  },
  {
   "cell_type": "code",
   "execution_count": null,
   "metadata": {
    "vscode": {
     "languageId": "rmd"
    }
   },
   "outputs": [],
   "source": [
    "# UPGMA Clustering\n",
    "```{r}\n",
    "library(phangorn)\n",
    "\n",
    "tree_Ox_50 <- upgma(dist_Ox_50)\n",
    "\n",
    "```"
   ]
  },
  {
   "cell_type": "code",
   "execution_count": null,
   "metadata": {
    "vscode": {
     "languageId": "rmd"
    }
   },
   "outputs": [],
   "source": [
    "# Dendrogram\n",
    "```{r}\n",
    "library(ggtree)\n",
    "library(dplyr)\n",
    "\n",
    "info <- read.csv(\"data/ind.metafile_Silico32755m_50ind_Oxalis.csv\")\n",
    "\n",
    "ggtree(tree_Ox_50,\n",
    "       color=\"black\",\n",
    "       layout = \"rectangular\") %<+% info %>% +\n",
    "  geom_tree(aes(color=pop), continuous=\"none\", size=0.8) +\n",
    "  geom_tiplab(aes(color=pop,label=label),face=\"bold\", size=2.5, \n",
    "              hjust = -0.01, vjust=0.005)+\n",
    "  scale_color_manual(breaks = c(\"In-vitro\",\"Campo\"),\n",
    "                     values=c(\"#2636c3\",\"#8b1054\"))+\n",
    "  ggplot2::xlim(0,0.2)\n",
    "\n",
    "ggsave(\"plots/Dendrogram_upgma_Ox_32755m_50ind.png\", width = 8, height = 12)\n",
    "\n",
    "```\n"
   ]
  },
  {
   "cell_type": "code",
   "execution_count": null,
   "metadata": {
    "vscode": {
     "languageId": "rmd"
    }
   },
   "outputs": [],
   "source": [
    "```{r}\n",
    "library(ggtree)\n",
    "library(dplyr)\n",
    "\n",
    "info <- read.csv(\"data/ind.metafile_Silico32755m_50ind_Oxalis.csv\")\n",
    "\n",
    "ggtree(tree_Ox_50,\n",
    "       color=\"black\",\n",
    "       layout = \"circular\") %<+% info %>% +\n",
    "  geom_tree(aes(color=pop), continuous=\"none\", size=0.8) +\n",
    "  geom_tiplab(aes(color=pop,label=label),face=\"bold\", size=2.5, \n",
    "              hjust = -0.01, vjust=0.005)+\n",
    "  scale_color_manual(breaks = c(\"In-vitro\",\"Campo\"),\n",
    "                     values=c(\"#2636c3\",\"#8b1054\"))+\n",
    "  ggplot2::xlim(0,0.2)\n",
    "\n",
    "ggsave(\"plots/Dendrogram_upgma_Ox_32755m_50ind_circular.png\", \n",
    "      width = 8, height = 8)\n",
    "\n",
    "```"
   ]
  }
 ],
 "metadata": {
  "language_info": {
   "name": "python"
  },
  "orig_nbformat": 4
 },
 "nbformat": 4,
 "nbformat_minor": 2
}
